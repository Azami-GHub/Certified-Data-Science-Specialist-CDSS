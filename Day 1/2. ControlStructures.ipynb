{
 "cells": [
  {
   "cell_type": "markdown",
   "metadata": {},
   "source": [
    "# Introduction to Programming"
   ]
  },
  {
   "cell_type": "markdown",
   "metadata": {},
   "source": [
    "## Control Structures"
   ]
  },
  {
   "cell_type": "markdown",
   "metadata": {},
   "source": [
    ">\"A **control structure** is a block of programming that analyzes variables and chooses a direction in which to go based on given parameters. The term flow control details the direction the program takes (which way program control \"flows\"). Hence it is the basic decision-making process in computing; flow control determines how a computer will respond when given certain conditions and parameters.\" (Wikipedia)"
   ]
  },
  {
   "cell_type": "markdown",
   "metadata": {},
   "source": [
    "### Booleans"
   ]
  },
  {
   "cell_type": "markdown",
   "metadata": {},
   "source": [
    "Boolean is another data type in Python. There are two Boolean values: True and False.\n",
    "For example, we can compare two number and check whether they are equal or not."
   ]
  },
  {
   "cell_type": "code",
   "execution_count": 1,
   "metadata": {},
   "outputs": [
    {
     "data": {
      "text/plain": [
       "False"
      ]
     },
     "execution_count": 1,
     "metadata": {},
     "output_type": "execute_result"
    }
   ],
   "source": [
    "x=10 #assignment operator\n",
    "y=23 \n",
    "x==y # '==' is used to compare the equality of two values and returns a Boolean value."
   ]
  },
  {
   "cell_type": "code",
   "execution_count": null,
   "metadata": {},
   "outputs": [],
   "source": []
  },
  {
   "cell_type": "code",
   "execution_count": 2,
   "metadata": {},
   "outputs": [
    {
     "data": {
      "text/plain": [
       "True"
      ]
     },
     "execution_count": 2,
     "metadata": {},
     "output_type": "execute_result"
    }
   ],
   "source": [
    "\"Python\"==\"Python\""
   ]
  },
  {
   "cell_type": "markdown",
   "metadata": {},
   "source": [
    "### Comparision Operators"
   ]
  },
  {
   "cell_type": "code",
   "execution_count": 4,
   "metadata": {},
   "outputs": [
    {
     "data": {
      "text/plain": [
       "True"
      ]
     },
     "execution_count": 4,
     "metadata": {},
     "output_type": "execute_result"
    }
   ],
   "source": [
    "x!=y"
   ]
  },
  {
   "cell_type": "code",
   "execution_count": 5,
   "metadata": {},
   "outputs": [
    {
     "data": {
      "text/plain": [
       "False"
      ]
     },
     "execution_count": 5,
     "metadata": {},
     "output_type": "execute_result"
    }
   ],
   "source": [
    "x>=y"
   ]
  },
  {
   "cell_type": "code",
   "execution_count": 6,
   "metadata": {},
   "outputs": [
    {
     "data": {
      "text/plain": [
       "True"
      ]
     },
     "execution_count": 6,
     "metadata": {},
     "output_type": "execute_result"
    }
   ],
   "source": [
    "x<=y"
   ]
  },
  {
   "cell_type": "markdown",
   "metadata": {},
   "source": [
    "## if else statement"
   ]
  },
  {
   "cell_type": "markdown",
   "metadata": {},
   "source": [
    "We can use if statements to run a piece of code if a particular condition holds.\n",
    "A certain block of code will be executed If a conditional expression evaluates to True. Otherwise, it will not be executed. "
   ]
  },
  {
   "cell_type": "markdown",
   "metadata": {},
   "source": [
    "```\n",
    "if (cond. expr.):\n",
    "    statement(s) # the statments within if should be indented.\n",
    "```"
   ]
  },
  {
   "cell_type": "code",
   "execution_count": 9,
   "metadata": {},
   "outputs": [
    {
     "name": "stdout",
     "output_type": "stream",
     "text": [
      "10\n",
      "THE END.\n"
     ]
    }
   ],
   "source": [
    "#if condition provides ONE output\n",
    "if(x<y):\n",
    " print(x)\n",
    "\n",
    "print(\"THE END.\")"
   ]
  },
  {
   "cell_type": "markdown",
   "metadata": {},
   "source": [
    "We can also write nested if statements. take a look at the following example:"
   ]
  },
  {
   "cell_type": "code",
   "execution_count": 12,
   "metadata": {},
   "outputs": [
    {
     "name": "stdout",
     "output_type": "stream",
     "text": [
      "Enter a number:-98\n",
      "It is a number.\n"
     ]
    }
   ],
   "source": [
    "number=int(input(\"Enter a number:\"))\n",
    "\n",
    "msg=\"It is a\"\n",
    "\n",
    "if number>0:\n",
    "    msg+=\" positive\"        # msg = msg + \"positive\"\n",
    "    if (number%2)==0:\n",
    "        msg+=\" and even\"\n",
    "msg+=\" number.\"\n",
    "\n",
    "print(msg)\n",
    "        "
   ]
  },
  {
   "cell_type": "code",
   "execution_count": 10,
   "metadata": {},
   "outputs": [
    {
     "name": "stdin",
     "output_type": "stream",
     "text": [
      "Value for a: 15\n",
      "Value for b: 30\n"
     ]
    },
    {
     "name": "stdout",
     "output_type": "stream",
     "text": [
      "30 is greater 15\n"
     ]
    }
   ],
   "source": [
    "#a = 30\n",
    "#b = 15\n",
    "\n",
    "a = int(input(\"Value for a:\"))\n",
    "b = int(input(\"Value for b:\"))\n",
    "\n",
    "msg = \"is greater\"\n",
    "\n",
    "if a > b:\n",
    "    print(a,msg,b)\n",
    "else:\n",
    "    print(b,msg,a)"
   ]
  },
  {
   "cell_type": "code",
   "execution_count": 15,
   "metadata": {},
   "outputs": [
    {
     "name": "stdout",
     "output_type": "stream",
     "text": [
      "Is 10 equals to 20? False\n",
      "Is Python not equal to python? True\n",
      "Is 15 more than and equal to 15? True\n"
     ]
    }
   ],
   "source": [
    "print(\"Is 10 equals to 20?\",10 == 20)\n",
    "print(\"Is Python not equal to python?\",\"Python\"!=\"python\")\n",
    "print(\"Is 15 more than and equal to 15?\",15>=15)"
   ]
  },
  {
   "cell_type": "code",
   "execution_count": 19,
   "metadata": {},
   "outputs": [
    {
     "name": "stdin",
     "output_type": "stream",
     "text": [
      "Please enter your age: 18\n"
     ]
    },
    {
     "name": "stdout",
     "output_type": "stream",
     "text": [
      "You're eligible to vote\n"
     ]
    }
   ],
   "source": [
    "userAge = int(input(\"Please enter your age:\"))\n",
    "maxVoteAge = 18\n",
    "\n",
    "if userAge < maxVoteAge:\n",
    "    print(\"You're not eligible to vote\")\n",
    "else:\n",
    "    print(\"You're eligible to vote\")"
   ]
  },
  {
   "cell_type": "code",
   "execution_count": 21,
   "metadata": {},
   "outputs": [
    {
     "name": "stdin",
     "output_type": "stream",
     "text": [
      "Enter +ve or -ve number: -3\n"
     ]
    },
    {
     "name": "stdout",
     "output_type": "stream",
     "text": [
      "The number is negative and odd\n"
     ]
    }
   ],
   "source": [
    "varNum = int(input(\"Enter +ve or -ve number:\"))\n",
    "\n",
    "if varNum < 0:\n",
    "    if (varNum%2)!=0:\n",
    "        print(\"The number is negative and odd\")\n",
    "    else:\n",
    "        print(\"The number is negative and even\")\n",
    "elif varNum >= 0:\n",
    "    if (varNum%2)!=0:\n",
    "        print(\"The number is positive and odd\")\n",
    "    else:\n",
    "        print(\"The number is positive and odd\")"
   ]
  },
  {
   "cell_type": "markdown",
   "metadata": {},
   "source": [
    "An **else** statement contains the block of code that executes if the conditional expression in the **if** statement resolves to **0** or a **False** value."
   ]
  },
  {
   "cell_type": "markdown",
   "metadata": {},
   "source": [
    "![](images/if_else_statement.jpg)"
   ]
  },
  {
   "cell_type": "code",
   "execution_count": 13,
   "metadata": {},
   "outputs": [
    {
     "name": "stdout",
     "output_type": "stream",
     "text": [
      "FALSE\n"
     ]
    }
   ],
   "source": [
    "x=11\n",
    "if (x==10):\n",
    "    print(\"TRUE\")\n",
    "else:\n",
    "    print(\"FALSE\")"
   ]
  },
  {
   "cell_type": "code",
   "execution_count": 12,
   "metadata": {},
   "outputs": [
    {
     "name": "stdout",
     "output_type": "stream",
     "text": [
      "Enter a number:-5\n",
      "It is a negative and odd number.\n"
     ]
    }
   ],
   "source": [
    "number=int(input(\"Enter a number:\"))\n",
    "\n",
    "msg=\"It is a\"\n",
    "if number>0:\n",
    "    msg+=\" positive\"\n",
    "    if (number%2)==0:\n",
    "        msg+=\" and even\"\n",
    "    else:\n",
    "        msg+=\" and odd\"\n",
    "else:\n",
    "    msg+=\" negative\"\n",
    "    if (number%2)==0:\n",
    "        msg+=\" and even\"\n",
    "    else:\n",
    "        msg+=\" and odd\"\n",
    "msg+=\" number.\"\n",
    "print(msg)"
   ]
  },
  {
   "cell_type": "markdown",
   "metadata": {},
   "source": [
    "### elif statement"
   ]
  },
  {
   "cell_type": "markdown",
   "metadata": {},
   "source": [
    "The elif (short for else if) statement is a shortcut to use when chaining if and else statements.\n",
    "A series of if elif statements can have a final else block, which is called if none of the if or elif expressions is True. In other words, The elif statement allows you to check multiple expressions for TRUE and execute a block of code as soon as one of the conditions evaluates to TRUE.\n",
    "Lets take a look at its structure."
   ]
  },
  {
   "cell_type": "markdown",
   "metadata": {},
   "source": [
    "```\n",
    "if expression1:\n",
    "   statement(s)\n",
    "elif expression2:\n",
    "   statement(s)\n",
    "elif expression3:\n",
    "   statement(s)\n",
    "else:\n",
    "   statement(s)\n",
    "```"
   ]
  },
  {
   "cell_type": "markdown",
   "metadata": {},
   "source": [
    "**Exercise 1**: Write a program based on the following table to covert numerical grade to letter grade.\n",
    "\n",
    "Numerical grade | Letter grade\n",
    "---|---\n",
    "90-100 | A\n",
    "80-89 | B\n",
    "70-79 | C\n",
    "60-69 | D\n",
    "<60 | F"
   ]
  },
  {
   "cell_type": "code",
   "execution_count": 14,
   "metadata": {},
   "outputs": [
    {
     "name": "stdout",
     "output_type": "stream",
     "text": [
      "Enter a numerical grade: 89\n",
      "B\n"
     ]
    }
   ],
   "source": [
    "#MC\n",
    "score = input(\"Enter a numerical grade: \")\n",
    "score=int(score)\n",
    "if score>=90:\n",
    "    print(\"A\")\n",
    "elif 80<=score<90:\n",
    "    print(\"B\")\n",
    "elif 70<=score<80:\n",
    "    print(\"C\")\n",
    "elif 60<=score<70:\n",
    "    print(\"D\")\n",
    "else:\n",
    "    print(\"F\")"
   ]
  },
  {
   "cell_type": "code",
   "execution_count": 24,
   "metadata": {},
   "outputs": [
    {
     "name": "stdin",
     "output_type": "stream",
     "text": [
      "Enter the temperature value 10\n"
     ]
    },
    {
     "name": "stdout",
     "output_type": "stream",
     "text": [
      "Low\n"
     ]
    }
   ],
   "source": [
    "varTemp = int(input(\"Enter the temperature value\"))\n",
    "\n",
    "if 0 <= varTemp <= 10:\n",
    "    print(\"Low\")\n",
    "elif 11 <= varTemp <= 29:\n",
    "    print(\"Medium\")\n",
    "elif varTemp >=30:\n",
    "    print(\"High\")\n",
    "else:\n",
    "    print(\"Freezing Temp\")"
   ]
  },
  {
   "cell_type": "markdown",
   "metadata": {},
   "source": [
    "### Logical Operators"
   ]
  },
  {
   "cell_type": "markdown",
   "metadata": {},
   "source": [
    "Logical operators are used to make more complicated conditions for control structures that rely on more than one condition. \n",
    "![](images/truth_table.png)"
   ]
  },
  {
   "cell_type": "code",
   "execution_count": 11,
   "metadata": {},
   "outputs": [
    {
     "name": "stdout",
     "output_type": "stream",
     "text": [
      "False\n"
     ]
    }
   ],
   "source": [
    "if(\"Python\"!=\"Python\" or not(321>=123)):\n",
    "    print(\"True\")\n",
    "else:\n",
    "    print(\"False\")"
   ]
  },
  {
   "cell_type": "markdown",
   "metadata": {},
   "source": [
    "**Excersice 2**: By adding a pair of paranthesis, Change the below statement to a **False** one. "
   ]
  },
  {
   "cell_type": "code",
   "execution_count": 14,
   "metadata": {},
   "outputs": [
    {
     "data": {
      "text/plain": [
       "True"
      ]
     },
     "execution_count": 14,
     "metadata": {},
     "output_type": "execute_result"
    }
   ],
   "source": [
    "False == False or True"
   ]
  },
  {
   "cell_type": "markdown",
   "metadata": {},
   "source": [
    "### Operator Precedence"
   ]
  },
  {
   "cell_type": "markdown",
   "metadata": {},
   "source": [
    "The following table lists all of Python's operators, from highest precedence to lowest."
   ]
  },
  {
   "cell_type": "markdown",
   "metadata": {},
   "source": [
    "|Operator|Description\n",
    "|:---|:---|\n",
    "|**|Exponentiation|\n",
    "|~, +, - | Complement, unary plus and minus|\n",
    "|*,/,%,// | Multiply, divide, modulo and floor division|\n",
    "|+,-|Addition and subtraction|\n",
    "|>>,<<|right and left bitwise shift|\n",
    "|&| Bitwise 'AND'|\n",
    "|^|Bitwise exclusive 'OR'|\n",
    "| &#x7c;  | Bitwise 'OR'|\n",
    "|in, not in, is, is not, <,<=,==,>,>=,!=|Comparision, equality, membership and identity operators|\n",
    "|not| Boolean 'NOT'|\n",
    "|and| Boolean 'AND'|\n",
    "|or| Boolean 'OR'|\n",
    "|=,+=,-=,*=,/=,%=, //=,**=|Assignment Operators|"
   ]
  },
  {
   "cell_type": "markdown",
   "metadata": {},
   "source": [
    "## While Loops"
   ]
  },
  {
   "cell_type": "markdown",
   "metadata": {},
   "source": [
    "With the while loop we can execute a set of statements as long as a condition is true."
   ]
  },
  {
   "cell_type": "markdown",
   "metadata": {},
   "source": [
    "The following example is a while loop containing a variable that counts up from 1 to 9."
   ]
  },
  {
   "cell_type": "code",
   "execution_count": 16,
   "metadata": {},
   "outputs": [
    {
     "name": "stdout",
     "output_type": "stream",
     "text": [
      "1 2 3 4 5 6 7 8 9 "
     ]
    }
   ],
   "source": [
    "i = 1 #initial value\n",
    "\n",
    "while i<=9:  #condition\n",
    "    print(i, end=\" \")\n",
    "    i = i + 1"
   ]
  },
  {
   "cell_type": "markdown",
   "metadata": {},
   "source": [
    "To avoid infinite loops, beware of how to write conditional statements, for example, this code makes an infinite loop.\n",
    "```\n",
    "while 1==1:\n",
    "  print(\"In the loop\") \n",
    " ```"
   ]
  },
  {
   "cell_type": "markdown",
   "metadata": {},
   "source": [
    "**Exercise 3**: Write a countdown program which print numbers from 20 to 1."
   ]
  },
  {
   "cell_type": "code",
   "execution_count": 17,
   "metadata": {},
   "outputs": [
    {
     "name": "stdout",
     "output_type": "stream",
     "text": [
      "20,19,18,17,16,15,14,13,12,11,10,9,8,7,6,5,4,3,2,1,END\n"
     ]
    }
   ],
   "source": [
    "#MC\n",
    "count=20\n",
    "while count>=1:\n",
    "    print(count, end=\",\")\n",
    "    count-=1\n",
    "print(\"END\")    "
   ]
  },
  {
   "cell_type": "code",
   "execution_count": 41,
   "metadata": {},
   "outputs": [
    {
     "name": "stdout",
     "output_type": "stream",
     "text": [
      "5\n",
      "6\n",
      "7\n",
      "8\n",
      "9\n",
      "10\n",
      "11\n",
      "12\n",
      "13\n",
      "14\n",
      "15\n"
     ]
    }
   ],
   "source": [
    "i = 5\n",
    "\n",
    "while 5 <= i <= 15:\n",
    "    print(i)\n",
    "    i+=1"
   ]
  },
  {
   "cell_type": "code",
   "execution_count": 58,
   "metadata": {},
   "outputs": [
    {
     "name": "stdout",
     "output_type": "stream",
     "text": [
      "1\n",
      "2\n",
      "3\n",
      "4\n",
      "6\n",
      "7\n",
      "8\n",
      "9\n",
      "10\n",
      "11\n"
     ]
    }
   ],
   "source": [
    "i = 0\n",
    "\n",
    "while 0 <= i <= 10:\n",
    "    #print(i)\n",
    "    i+=1\n",
    "    if i==5:\n",
    "        #print(\"Skip\")\n",
    "        continue\n",
    "    \n",
    "    print(i)\n",
    "    "
   ]
  },
  {
   "cell_type": "markdown",
   "metadata": {},
   "source": [
    "**Break Statment**\n",
    "\n",
    "We can use the break statement to end a while loop prematurely. It causes the loop to finish immediately."
   ]
  },
  {
   "cell_type": "markdown",
   "metadata": {},
   "source": [
    "![](images/cpp_break_statement.jpg)"
   ]
  },
  {
   "cell_type": "code",
   "execution_count": 17,
   "metadata": {},
   "outputs": [
    {
     "name": "stdout",
     "output_type": "stream",
     "text": [
      "1\n",
      "2\n",
      "3\n",
      "4\n",
      "5\n",
      "Breaking\n",
      "Finished.\n"
     ]
    }
   ],
   "source": [
    "i = 1\n",
    "while True:\n",
    "  print(i)\n",
    "  i = i + 1\n",
    "  if i > 5:\n",
    "    print(\"Breaking\")\n",
    "    break\n",
    "\n",
    "print(\"Finished.\")"
   ]
  },
  {
   "cell_type": "markdown",
   "metadata": {},
   "source": [
    "**continue statement**\n",
    "\n",
    "To jump to the top of the loop; we can use the continue statement."
   ]
  },
  {
   "cell_type": "markdown",
   "metadata": {},
   "source": [
    "The following example, show hot to skip odd numbers in a range of integers"
   ]
  },
  {
   "cell_type": "code",
   "execution_count": 3,
   "metadata": {},
   "outputs": [
    {
     "name": "stdout",
     "output_type": "stream",
     "text": [
      "1\n",
      "3\n",
      "5\n",
      "7\n",
      "9\n",
      "11\n"
     ]
    }
   ],
   "source": [
    "i=0\n",
    "while i<=10:\n",
    "    i+=1      #i = i + 1\n",
    "    if i%2==1:\n",
    "        #continue\n",
    "        print(i)\n",
    "    else:\n",
    "        #print(i)\n",
    "        continue\n",
    "   "
   ]
  },
  {
   "cell_type": "markdown",
   "metadata": {},
   "source": [
    "The continue statement ends the current iteration and continues with the next one. \n",
    "We cannot use the continue statement outside of a loop, because it makes an error. "
   ]
  },
  {
   "cell_type": "markdown",
   "metadata": {},
   "source": [
    "### Lists"
   ]
  },
  {
   "cell_type": "markdown",
   "metadata": {},
   "source": [
    "A list is a collection which is ordered and changeable. Lists are used to store an indexed list of items. In Python lists are written within square brackets, and we use comma to separate items."
   ]
  },
  {
   "cell_type": "code",
   "execution_count": 19,
   "metadata": {},
   "outputs": [
    {
     "name": "stdout",
     "output_type": "stream",
     "text": [
      "['I', 'am', 'a', 'Python', 'programmer', '.']\n"
     ]
    }
   ],
   "source": [
    "theList=['I','am','a','Python','programmer','.']\n",
    "print(theList)"
   ]
  },
  {
   "cell_type": "markdown",
   "metadata": {},
   "source": [
    "A certain item in the list can be accessed by using its index in square brackets. The index strats from zero."
   ]
  },
  {
   "cell_type": "code",
   "execution_count": 20,
   "metadata": {},
   "outputs": [
    {
     "data": {
      "text/plain": [
       "'Python programmer'"
      ]
     },
     "execution_count": 20,
     "metadata": {},
     "output_type": "execute_result"
    }
   ],
   "source": [
    "theList[3]+\" \"+theList[4]  #concatenation"
   ]
  },
  {
   "cell_type": "markdown",
   "metadata": {},
   "source": [
    "Sometimes we need to create an empty list, an empty list is created by using an empty pair of brackets."
   ]
  },
  {
   "cell_type": "code",
   "execution_count": 2,
   "metadata": {},
   "outputs": [
    {
     "name": "stdout",
     "output_type": "stream",
     "text": [
      "[]\n"
     ]
    }
   ],
   "source": [
    "empty_list=[]\n",
    "print(empty_list)"
   ]
  },
  {
   "cell_type": "markdown",
   "metadata": {},
   "source": [
    "A list can include several different data types. Also, a list can contain other lists, and we call it nested lists."
   ]
  },
  {
   "cell_type": "code",
   "execution_count": 25,
   "metadata": {},
   "outputs": [
    {
     "name": "stdout",
     "output_type": "stream",
     "text": [
      "0\n",
      "[1, 2, 3]\n",
      "3\n"
     ]
    }
   ],
   "source": [
    "number = 3\n",
    "things = [\"string\", 0, [1, 2, number], 4.56]\n",
    "print(things[1])\n",
    "print(things[2])\n",
    "print(things[2][2])"
   ]
  },
  {
   "cell_type": "markdown",
   "metadata": {},
   "source": [
    "Indexing out of the bounds of possible list values makes an IndexError. Strings can be also indexed like lists. "
   ]
  },
  {
   "cell_type": "code",
   "execution_count": 59,
   "metadata": {},
   "outputs": [
    {
     "name": "stdout",
     "output_type": "stream",
     "text": [
      "1\n",
      "2\n",
      "3\n",
      "4\n",
      "5\n"
     ]
    }
   ],
   "source": [
    "i=0\n",
    "myList=[1,2,3,4,5]\n",
    "while i<5:\n",
    "    print(myList[i])\n",
    "    i+=1\n",
    "#Please correct it!"
   ]
  },
  {
   "cell_type": "code",
   "execution_count": 32,
   "metadata": {},
   "outputs": [
    {
     "name": "stdout",
     "output_type": "stream",
     "text": [
      "l\n"
     ]
    }
   ],
   "source": [
    "strVar=\"Hello World!\"\n",
    "print(strVar[3])"
   ]
  },
  {
   "cell_type": "markdown",
   "metadata": {},
   "source": [
    "### List Operators"
   ]
  },
  {
   "cell_type": "markdown",
   "metadata": {},
   "source": [
    "We can reassign an item at a certain index in a list."
   ]
  },
  {
   "cell_type": "code",
   "execution_count": 21,
   "metadata": {},
   "outputs": [
    {
     "name": "stdout",
     "output_type": "stream",
     "text": [
      "[2, 4, 8, 4, 2]\n"
     ]
    }
   ],
   "source": [
    "numList=[2,4,2,4,2]\n",
    "numList[2]=8\n",
    "print(numList)"
   ]
  },
  {
   "cell_type": "markdown",
   "metadata": {},
   "source": [
    "In the same way as strings, we can add and multiply lists. Lets take a look at the following examples:"
   ]
  },
  {
   "cell_type": "code",
   "execution_count": 22,
   "metadata": {},
   "outputs": [
    {
     "name": "stdout",
     "output_type": "stream",
     "text": [
      "[2, 4, 8, 4, 2]\n",
      "[2, 4, 8, 4, 2, 2, 4, 8, 4, 2]\n"
     ]
    }
   ],
   "source": [
    "numList=[2,4,8]\n",
    "numList+=[4,2]\n",
    "print(numList)\n",
    "print(numList*2)"
   ]
  },
  {
   "cell_type": "markdown",
   "metadata": {},
   "source": [
    "We can use **in** operator to check whether an item is in a list or not? **in** operator returns **True** if the item occurs one or more times in the list, and **False** if it doesn't."
   ]
  },
  {
   "cell_type": "code",
   "execution_count": 5,
   "metadata": {},
   "outputs": [
    {
     "name": "stdout",
     "output_type": "stream",
     "text": [
      "True\n",
      "True\n",
      "False\n"
     ]
    }
   ],
   "source": [
    "words = [\"spam\", \"egg\", \"spam\", \"foo\"]\n",
    "print(\"spam\" in words)\n",
    "print(\"egg\" in words)\n",
    "print(\"bar\" in words)"
   ]
  },
  {
   "cell_type": "markdown",
   "metadata": {},
   "source": [
    "We can use **in** operator to determine whether a string is a substring of another string or not."
   ]
  },
  {
   "cell_type": "code",
   "execution_count": 60,
   "metadata": {},
   "outputs": [
    {
     "data": {
      "text/plain": [
       "False"
      ]
     },
     "execution_count": 60,
     "metadata": {},
     "output_type": "execute_result"
    }
   ],
   "source": [
    "string=\"Hello World\"\n",
    "\"hello\" in string"
   ]
  },
  {
   "cell_type": "markdown",
   "metadata": {},
   "source": [
    "To check if an item is not in a list, you can use the **not** operator in one of the following ways:"
   ]
  },
  {
   "cell_type": "code",
   "execution_count": 61,
   "metadata": {},
   "outputs": [
    {
     "data": {
      "text/plain": [
       "[1, 2, 3, 4, 5]"
      ]
     },
     "execution_count": 61,
     "metadata": {},
     "output_type": "execute_result"
    }
   ],
   "source": [
    "myList"
   ]
  },
  {
   "cell_type": "code",
   "execution_count": null,
   "metadata": {},
   "outputs": [],
   "source": [
    "2 not in myList"
   ]
  },
  {
   "cell_type": "code",
   "execution_count": null,
   "metadata": {},
   "outputs": [],
   "source": [
    "6 not in myList"
   ]
  },
  {
   "cell_type": "markdown",
   "metadata": {},
   "source": [
    "### List Functions"
   ]
  },
  {
   "cell_type": "markdown",
   "metadata": {},
   "source": [
    "**append** method is another way to alter a list. This function adds an item to the end of an existing list."
   ]
  },
  {
   "cell_type": "code",
   "execution_count": 23,
   "metadata": {},
   "outputs": [],
   "source": [
    "myList = [1,2,3,4,5]"
   ]
  },
  {
   "cell_type": "code",
   "execution_count": 24,
   "metadata": {},
   "outputs": [
    {
     "data": {
      "text/plain": [
       "[1, 2, 3, 4, 5]"
      ]
     },
     "execution_count": 24,
     "metadata": {},
     "output_type": "execute_result"
    }
   ],
   "source": [
    "myList"
   ]
  },
  {
   "cell_type": "code",
   "execution_count": 25,
   "metadata": {},
   "outputs": [],
   "source": [
    "myList.append(6)"
   ]
  },
  {
   "cell_type": "code",
   "execution_count": 25,
   "metadata": {},
   "outputs": [
    {
     "data": {
      "text/plain": [
       "[1, 2, 3, 4, 5, 6]"
      ]
     },
     "execution_count": 25,
     "metadata": {},
     "output_type": "execute_result"
    }
   ],
   "source": [
    "myList"
   ]
  },
  {
   "cell_type": "markdown",
   "metadata": {},
   "source": [
    "**len** function can be used to get the number of items in a list."
   ]
  },
  {
   "cell_type": "code",
   "execution_count": 26,
   "metadata": {},
   "outputs": [
    {
     "data": {
      "text/plain": [
       "6"
      ]
     },
     "execution_count": 26,
     "metadata": {},
     "output_type": "execute_result"
    }
   ],
   "source": [
    "len(myList)  #length"
   ]
  },
  {
   "cell_type": "markdown",
   "metadata": {},
   "source": [
    "**insert** method allows you to add a new item at any position in the list."
   ]
  },
  {
   "cell_type": "code",
   "execution_count": 64,
   "metadata": {},
   "outputs": [
    {
     "name": "stdout",
     "output_type": "stream",
     "text": [
      "['I', 'love', 'Python']\n"
     ]
    }
   ],
   "source": [
    "msg=['I','Python']\n",
    "msg.insert(1,\"love\")\n",
    "print(msg)"
   ]
  },
  {
   "cell_type": "markdown",
   "metadata": {},
   "source": [
    "**There are a few more useful functions and methods for lists:**\n",
    "\n",
    "- **max(list)**: Returns the list item with the maximum value\n",
    "- **min(list)**: Returns the list item with minimum value\n",
    "- **list.count(obj)**: Returns a count of how many times an item occurs in a list\n",
    "- **list.reverse()**: Reverses objects in a list\n",
    "- **list.index(obj)**: Finds the first occurrence of a list item and returns its index\n",
    "- **list.remove(obj)**: Removes an object from a list"
   ]
  },
  {
   "cell_type": "code",
   "execution_count": 29,
   "metadata": {},
   "outputs": [],
   "source": [
    "myList=[1,2,4,8,4,2,2]"
   ]
  },
  {
   "cell_type": "code",
   "execution_count": 30,
   "metadata": {},
   "outputs": [
    {
     "data": {
      "text/plain": [
       "8"
      ]
     },
     "execution_count": 30,
     "metadata": {},
     "output_type": "execute_result"
    }
   ],
   "source": [
    "max(myList)"
   ]
  },
  {
   "cell_type": "code",
   "execution_count": 31,
   "metadata": {},
   "outputs": [
    {
     "data": {
      "text/plain": [
       "1"
      ]
     },
     "execution_count": 31,
     "metadata": {},
     "output_type": "execute_result"
    }
   ],
   "source": [
    "min(myList)"
   ]
  },
  {
   "cell_type": "code",
   "execution_count": 32,
   "metadata": {},
   "outputs": [
    {
     "data": {
      "text/plain": [
       "3"
      ]
     },
     "execution_count": 32,
     "metadata": {},
     "output_type": "execute_result"
    }
   ],
   "source": [
    "myList.count(2)"
   ]
  },
  {
   "cell_type": "code",
   "execution_count": 33,
   "metadata": {},
   "outputs": [
    {
     "data": {
      "text/plain": [
       "[2, 2, 4, 8, 4, 2, 1]"
      ]
     },
     "execution_count": 33,
     "metadata": {},
     "output_type": "execute_result"
    }
   ],
   "source": [
    "myList.reverse()\n",
    "myList"
   ]
  },
  {
   "cell_type": "code",
   "execution_count": 68,
   "metadata": {},
   "outputs": [
    {
     "data": {
      "text/plain": [
       "1"
      ]
     },
     "execution_count": 68,
     "metadata": {},
     "output_type": "execute_result"
    }
   ],
   "source": [
    "myList.index(2)"
   ]
  },
  {
   "cell_type": "code",
   "execution_count": 35,
   "metadata": {},
   "outputs": [
    {
     "data": {
      "text/plain": [
       "[2, 2, 4, 8, 4, 2]"
      ]
     },
     "execution_count": 35,
     "metadata": {},
     "output_type": "execute_result"
    }
   ],
   "source": [
    "myList.remove(1)\n",
    "myList"
   ]
  },
  {
   "cell_type": "code",
   "execution_count": 37,
   "metadata": {},
   "outputs": [
    {
     "data": {
      "text/plain": [
       "[2, 4, 8, 4, 2]"
      ]
     },
     "execution_count": 37,
     "metadata": {},
     "output_type": "execute_result"
    }
   ],
   "source": [
    "# remove the first position found of number 2\n",
    "myList.remove(2)\n",
    "myList"
   ]
  },
  {
   "cell_type": "markdown",
   "metadata": {},
   "source": [
    "Exercise\n",
    "\n",
    "1. By using if-else conditional statement check if a year is a leap year\n",
    "2. Given a list of numbers, create a new list with only the even numbers."
   ]
  },
  {
   "cell_type": "code",
   "execution_count": 18,
   "metadata": {},
   "outputs": [
    {
     "name": "stdout",
     "output_type": "stream",
     "text": [
      "[1, 4, 8, 4]\n"
     ]
    }
   ],
   "source": [
    "myList = [1, 2, 4, 8, 4, 2, 2]\n",
    "\n",
    "myList = [x for x in myList if x != 2]\n",
    "\n",
    "print(myList)\n"
   ]
  },
  {
   "cell_type": "code",
   "execution_count": 19,
   "metadata": {},
   "outputs": [
    {
     "name": "stdout",
     "output_type": "stream",
     "text": [
      "[1, 4, 8, 4]\n"
     ]
    }
   ],
   "source": [
    "myList = [1, 2, 4, 8, 4, 2, 2]\n",
    "\n",
    "while 2 in myList:\n",
    "    myList.remove(2)\n",
    "\n",
    "print(myList)\n"
   ]
  },
  {
   "cell_type": "markdown",
   "metadata": {},
   "source": [
    "### Range"
   ]
  },
  {
   "cell_type": "markdown",
   "metadata": {},
   "source": [
    "The **range** function creates a sequential list of numbers.\n",
    "The code below generates a list containing all of the integers, up to 10."
   ]
  },
  {
   "cell_type": "code",
   "execution_count": 27,
   "metadata": {},
   "outputs": [
    {
     "name": "stdout",
     "output_type": "stream",
     "text": [
      "[0, 1, 2, 3, 4, 5, 6, 7, 8, 9]\n"
     ]
    }
   ],
   "source": [
    "numbers = list(range(10))\n",
    "print(numbers)"
   ]
  },
  {
   "cell_type": "markdown",
   "metadata": {},
   "source": [
    "**range** creates a range object. Therefore, it is necessary to use \"list\" function to convert it to a list and treat it as a list."
   ]
  },
  {
   "cell_type": "markdown",
   "metadata": {},
   "source": [
    "If range is called with one argument, it produces an object with values from 0 to that argument. \n",
    "If it is called with two arguments, it produces values from the first to the second."
   ]
  },
  {
   "cell_type": "code",
   "execution_count": 28,
   "metadata": {},
   "outputs": [
    {
     "name": "stdout",
     "output_type": "stream",
     "text": [
      "[4, 5, 6, 7, 8, 9]\n"
     ]
    }
   ],
   "source": [
    "numbers = list(range(4, 10))\n",
    "print(numbers)"
   ]
  },
  {
   "cell_type": "code",
   "execution_count": 29,
   "metadata": {},
   "outputs": [
    {
     "name": "stdout",
     "output_type": "stream",
     "text": [
      "True\n"
     ]
    }
   ],
   "source": [
    "print(range(10) == range(0, 10))"
   ]
  },
  {
   "cell_type": "markdown",
   "metadata": {},
   "source": [
    "range can have a third argument, which determines the interval of the sequence produced. This third argument must be an integer."
   ]
  },
  {
   "cell_type": "code",
   "execution_count": 69,
   "metadata": {},
   "outputs": [
    {
     "name": "stdout",
     "output_type": "stream",
     "text": [
      "[3, 5, 7, 9, 11, 13, 15]\n"
     ]
    }
   ],
   "source": [
    "# third parameter is for interval\n",
    "numbers = list(range(3, 16, 2))\n",
    "print(numbers)"
   ]
  },
  {
   "cell_type": "markdown",
   "metadata": {},
   "source": [
    "## For loops"
   ]
  },
  {
   "cell_type": "markdown",
   "metadata": {},
   "source": [
    "A for loop structure is used for iterating over a collection (that is either a list, a tuple, a dictionary, a set, or a string).\n",
    "\n",
    "This is not really like the \"for\" keyword in other programming languages.\n",
    "With the \"for\" loop, we can execute a set of statements, once for each item in a list, tuple, set etc.\n",
    "\n"
   ]
  },
  {
   "cell_type": "code",
   "execution_count": 23,
   "metadata": {},
   "outputs": [
    {
     "name": "stdout",
     "output_type": "stream",
     "text": [
      "hello!\n",
      "world!\n",
      "spam!\n",
      "eggs!\n"
     ]
    }
   ],
   "source": [
    "words = [\"hello\", \"world\", \"spam\", \"eggs\"]\n",
    "for word in words:\n",
    "  print(word + \"!\")"
   ]
  },
  {
   "cell_type": "code",
   "execution_count": 24,
   "metadata": {},
   "outputs": [
    {
     "name": "stdout",
     "output_type": "stream",
     "text": [
      "apple :)\n",
      "banana :)\n",
      "cherry :)\n"
     ]
    }
   ],
   "source": [
    "fruits = [\"apple\", \"banana\", \"cherry\"]\n",
    "for x in fruits:\n",
    "  print(x+\" :)\")"
   ]
  },
  {
   "cell_type": "markdown",
   "metadata": {},
   "source": [
    "With the **break statement** we can stop the loop before it has looped through all the items:"
   ]
  },
  {
   "cell_type": "code",
   "execution_count": 71,
   "metadata": {},
   "outputs": [
    {
     "name": "stdout",
     "output_type": "stream",
     "text": [
      "apple\n",
      "banana\n"
     ]
    }
   ],
   "source": [
    "fruits = [\"apple\", \"banana\", \"cherry\"]\n",
    "for x in fruits:\n",
    "    print(x)\n",
    "    if x == \"banana\":\n",
    "        break\n"
   ]
  },
  {
   "cell_type": "code",
   "execution_count": 26,
   "metadata": {},
   "outputs": [
    {
     "name": "stdout",
     "output_type": "stream",
     "text": [
      "apple\n"
     ]
    }
   ],
   "source": [
    "fruits = [\"apple\", \"banana\", \"cherry\"]\n",
    "for x in fruits:\n",
    "  if x == \"banana\":\n",
    "    break\n",
    "  print(x)"
   ]
  },
  {
   "cell_type": "markdown",
   "metadata": {},
   "source": [
    "With the **continue statement** we can stop the current iteration of the loop, and continue with the next:"
   ]
  },
  {
   "cell_type": "code",
   "execution_count": 27,
   "metadata": {},
   "outputs": [
    {
     "name": "stdout",
     "output_type": "stream",
     "text": [
      "apple\n",
      "cherry\n"
     ]
    }
   ],
   "source": [
    "fruits = [\"apple\", \"banana\", \"cherry\"]\n",
    "for x in fruits:\n",
    "  if x == \"banana\":\n",
    "    continue\n",
    "  print(x)"
   ]
  },
  {
   "cell_type": "code",
   "execution_count": 30,
   "metadata": {},
   "outputs": [
    {
     "name": "stdout",
     "output_type": "stream",
     "text": [
      "0\n",
      "1\n",
      "2\n",
      "3\n",
      "4\n",
      "5\n"
     ]
    }
   ],
   "source": [
    "for x in range(6):\n",
    "  print(x)"
   ]
  },
  {
   "cell_type": "code",
   "execution_count": null,
   "metadata": {},
   "outputs": [],
   "source": []
  }
 ],
 "metadata": {
  "kernelspec": {
   "display_name": "Python 3 (ipykernel)",
   "language": "python",
   "name": "python3"
  },
  "language_info": {
   "codemirror_mode": {
    "name": "ipython",
    "version": 3
   },
   "file_extension": ".py",
   "mimetype": "text/x-python",
   "name": "python",
   "nbconvert_exporter": "python",
   "pygments_lexer": "ipython3",
   "version": "3.11.7"
  }
 },
 "nbformat": 4,
 "nbformat_minor": 4
}
